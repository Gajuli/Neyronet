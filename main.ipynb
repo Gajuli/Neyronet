{
 "cells": [
  {
   "cell_type": "code",
   "execution_count": 1,
   "metadata": {
    "collapsed": true
   },
   "outputs": [],
   "source": [
    "import numpy as np"
   ]
  },
  {
   "cell_type": "code",
   "execution_count": 2,
   "metadata": {
    "collapsed": false
   },
   "outputs": [],
   "source": [
    "class neyron:\n",
    "    def __init__(self):\n",
    "        self.ves=[]\n",
    "        self.vhod=[]\n",
    "        self.mashtab=[]\n",
    "        self.suma=0\n",
    "        self.porog=9\n",
    "        self.danet=\"\"\n",
    "        \n",
    "    def write_ves_txt(self, path):\n",
    "        txt_file = open(path, \"w\")\n",
    "        for item in self.ves:\n",
    "            txt_file.write(str(item)+\"\\n\")\n",
    "        txt_file.close()\n",
    "        \n",
    "    def read_ves_txt(self, path):\n",
    "        self.ves=[]\n",
    "        temp=np.loadtxt(path)\n",
    "        i=0\n",
    "        while i<len(temp):\n",
    "            self.ves.append(int(temp[i]))\n",
    "            i+=1\n",
    "            \n",
    "        \n",
    "    def read_bmp(self,path):\n",
    "        self.vhod=[]\n",
    "        image_file = open(path, \"rb\")\n",
    "        image_file.seek(54)\n",
    "        row=[]\n",
    "        while True:\n",
    "            pixel_hex =image_file.read(1)\n",
    "            if len(pixel_hex) == 0:\n",
    "                break\n",
    "            pixel_ord=ord(pixel_hex)\n",
    "        \n",
    "            row.insert(0,pixel_ord)\n",
    "\n",
    "    \n",
    "        image_file.close()\n",
    "        j=0\n",
    "        \n",
    "        while j<5:\n",
    "        \n",
    "            a=row[j*12+3]+row[j*12+4]+row[j*12+5]\n",
    "            if a>0:\n",
    "                a=0\n",
    "            else:\n",
    "                a=1\n",
    "            b=row[j*12+6]+row[j*12+7]+row[j*12+8]\n",
    "            if b>0:\n",
    "                b=0\n",
    "            else:\n",
    "                b=1\n",
    "            c=row[j*12+9]+row[j*12+10]+row[j*12+11]\n",
    "            if c>0:\n",
    "                c=0\n",
    "            else:\n",
    "                c=1\n",
    "            self.vhod.append(c)\n",
    "            self.vhod.append(b)\n",
    "            self.vhod.append(a)\n",
    "            j+=1\n",
    "    def hz_poka(self):\n",
    "        self.mashtab=[]\n",
    "        self.suma=0\n",
    "        porog=9\n",
    "        self.danet=\"\"\n",
    "        i=0\n",
    "        while i<len(self.ves):\n",
    "            self.mashtab.append(self.ves[i]*self.vhod[i])\n",
    "            self.suma+=self.ves[i]*self.vhod[i]\n",
    "            i+=1\n",
    "        if self.suma>self.porog:\n",
    "            self.danet=\"True\"\n",
    "        else:\n",
    "            self.danet=\"False\"\n",
    "    def obuchenie(self, path_vhod, path_ves):\n",
    "        self.read_bmp(path_vhod)\n",
    "        self.read_ves_txt(path_ves)\n",
    "        self.hz_poka()\n",
    "        print(\"Proga skazala:\"+self.danet)\n",
    "        pravda=input()\n",
    "        if pravda==self.danet:\n",
    "            print(\"krasivo\")\n",
    "        if pravda!=self.danet:\n",
    "            if pravda==\"False\":\n",
    "                i=0\n",
    "                while i<len(self.ves):\n",
    "                    self.ves[i]-=self.vhod[i]\n",
    "                    i+=1\n",
    "            if pravda==\"True\":\n",
    "                i=0\n",
    "                while i<len(self.ves):\n",
    "                    self.ves[i]+=self.vhod[i]\n",
    "                    i+=1\n",
    "        self.write_ves_txt(path_ves)"
   ]
  },
  {
   "cell_type": "code",
   "execution_count": 3,
   "metadata": {
    "collapsed": false
   },
   "outputs": [],
   "source": [
    "proba=neyron()"
   ]
  },
  {
   "cell_type": "code",
   "execution_count": 6,
   "metadata": {
    "collapsed": false
   },
   "outputs": [
    {
     "name": "stdout",
     "output_type": "stream",
     "text": [
      "Proga skazala:True\n",
      "True\n",
      "krasivo\n"
     ]
    }
   ],
   "source": [
    "proba.obuchenie(\"bmp_files/3.bmp\",\"vesa_3.txt\")\n"
   ]
  },
  {
   "cell_type": "code",
   "execution_count": null,
   "metadata": {
    "collapsed": true
   },
   "outputs": [],
   "source": []
  }
 ],
 "metadata": {
  "kernelspec": {
   "display_name": "Python 3",
   "language": "python",
   "name": "python3"
  },
  "language_info": {
   "codemirror_mode": {
    "name": "ipython",
    "version": 3
   },
   "file_extension": ".py",
   "mimetype": "text/x-python",
   "name": "python",
   "nbconvert_exporter": "python",
   "pygments_lexer": "ipython3",
   "version": "3.6.0"
  }
 },
 "nbformat": 4,
 "nbformat_minor": 2
}
